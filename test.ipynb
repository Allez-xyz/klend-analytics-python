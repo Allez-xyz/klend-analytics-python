{
 "cells": [
  {
   "cell_type": "code",
   "execution_count": 1,
   "metadata": {},
   "outputs": [],
   "source": [
    "%load_ext autoreload\n",
    "%reload_ext autoreload\n",
    "%autoreload 2"
   ]
  },
  {
   "cell_type": "code",
   "execution_count": 2,
   "metadata": {},
   "outputs": [
    {
     "name": "stderr",
     "output_type": "stream",
     "text": [
      "INFO:httpx:HTTP Request: POST https://mainnet.helius-rpc.com/?api-key=5cf93bf0-47f0-4728-937c-be88c812c28a \"HTTP/1.1 200 OK\"\n",
      "INFO:root:Number of obligations = 379\n",
      "INFO:root:get all_pubkeys_w_data_slice time_taken = 1.68 seconds\n",
      "INFO:httpx:HTTP Request: POST https://mainnet.helius-rpc.com/?api-key=5cf93bf0-47f0-4728-937c-be88c812c28a \"HTTP/1.1 200 OK\"\n"
     ]
    },
    {
     "data": {
      "text/plain": [
       "Index(['tag', 'last_update', 'lending_market', 'owner', 'deposits',\n",
       "       'lowest_reserve_deposit_liquidation_ltv', 'deposited_value_sf',\n",
       "       'borrows', 'borrow_factor_adjusted_debt_value_sf',\n",
       "       'borrowed_assets_market_value_sf', 'allowed_borrow_value_sf',\n",
       "       'unhealthy_borrow_value_sf', 'deposits_asset_tiers',\n",
       "       'borrows_asset_tiers', 'elevation_group', 'num_of_obsolete_reserves',\n",
       "       'has_debt', 'referrer', 'borrowing_disabled', 'reserved',\n",
       "       'highest_borrow_factor_pct', 'padding3', 'public_key', 'pubkey_short',\n",
       "       'owner_pubkey_short'],\n",
       "      dtype='object')"
      ]
     },
     "execution_count": 2,
     "metadata": {},
     "output_type": "execute_result"
    }
   ],
   "source": [
    "from external_klend_utils import (\n",
    "    get_all_obligations_df,\n",
    "    get_kamino_lend_program,\n",
    "    get_all_obligations,\n",
    ")\n",
    "import os\n",
    "from dotenv import load_dotenv\n",
    "import sys\n",
    "import pandas as pd\n",
    "\n",
    "pd.set_option(\"display.max_columns\", None)\n",
    "\n",
    "\n",
    "load_dotenv()\n",
    "\n",
    "LENDING_MARKETS = {\n",
    "    \"main_market\": \"7u3HeHxYDLhnCoErrtycNokbQYbWGzLs6JSDqGAv5PfF\",\n",
    "    \"jlp_market\": \"DxXdAyU3kCjnyggvHmY5nAwg5cRbbmdyX3npfDMjjMek\",\n",
    "    \"altcoin_market\": \"ByYiZxp8QrdN9qbdtaAiePN8AAr3qvTPppNJDpf5DVJ5\",\n",
    "    \"ethena_market\": \"BJnbcRHqvppTyGesLzWASGKnmnF1wq9jZu6ExrjT7wvF\",\n",
    "}\n",
    "market = LENDING_MARKETS[\"ethena_market\"]\n",
    "uri = os.getenv(\"SOLANARPC_HTTP_URI\")\n",
    "kamino_lend_program = get_kamino_lend_program(uri)\n",
    "obligations_list = await get_all_obligations(kamino_lend_program, market_pubkey=market)\n",
    "obl_df = get_all_obligations_df(obligations_list, only_positive_deposit=True)\n",
    "obl_df.columns"
   ]
  },
  {
   "cell_type": "code",
   "execution_count": null,
   "metadata": {},
   "outputs": [],
   "source": [
    "obligations_list[list(obligations_list.keys())[0]]\n",
    "object_to_dict(obligations_list.items())"
   ]
  },
  {
   "cell_type": "code",
   "execution_count": null,
   "metadata": {},
   "outputs": [],
   "source": [
    "# sys.path.append(\"../../\")\n",
    "# from shared_scripts import kamino_classes"
   ]
  },
  {
   "cell_type": "code",
   "execution_count": null,
   "metadata": {},
   "outputs": [],
   "source": []
  },
  {
   "cell_type": "code",
   "execution_count": null,
   "metadata": {},
   "outputs": [],
   "source": []
  },
  {
   "cell_type": "code",
   "execution_count": null,
   "metadata": {},
   "outputs": [],
   "source": []
  },
  {
   "cell_type": "code",
   "execution_count": null,
   "metadata": {},
   "outputs": [],
   "source": []
  },
  {
   "cell_type": "code",
   "execution_count": null,
   "metadata": {},
   "outputs": [],
   "source": []
  },
  {
   "cell_type": "code",
   "execution_count": null,
   "metadata": {},
   "outputs": [],
   "source": []
  },
  {
   "cell_type": "code",
   "execution_count": null,
   "metadata": {},
   "outputs": [],
   "source": []
  },
  {
   "cell_type": "code",
   "execution_count": null,
   "metadata": {},
   "outputs": [],
   "source": [
    "reserves_configs = await get_reserves_configs(kamino_lend_program, mp.market)\n",
    "mint_to_str_map, str_to_mint_map = await get_scope_mints_to_str_map()\n",
    "obl_df2 = expand_borrows_deposits(\n",
    "    obl_df, reserves_configs, mint_to_str_map, lending_market=mp.market\n",
    ")"
   ]
  },
  {
   "cell_type": "code",
   "execution_count": null,
   "metadata": {},
   "outputs": [],
   "source": [
    "obl_df2"
   ]
  },
  {
   "cell_type": "code",
   "execution_count": null,
   "metadata": {},
   "outputs": [],
   "source": []
  },
  {
   "cell_type": "code",
   "execution_count": null,
   "metadata": {},
   "outputs": [],
   "source": []
  },
  {
   "cell_type": "code",
   "execution_count": null,
   "metadata": {},
   "outputs": [],
   "source": []
  },
  {
   "cell_type": "code",
   "execution_count": null,
   "metadata": {},
   "outputs": [],
   "source": []
  },
  {
   "cell_type": "code",
   "execution_count": null,
   "metadata": {},
   "outputs": [],
   "source": []
  },
  {
   "cell_type": "markdown",
   "metadata": {},
   "source": []
  },
  {
   "cell_type": "code",
   "execution_count": null,
   "metadata": {},
   "outputs": [],
   "source": [
    "df = mp.prepare_obligation_level_metrics()\n",
    "df.head(2)"
   ]
  },
  {
   "cell_type": "code",
   "execution_count": null,
   "metadata": {},
   "outputs": [],
   "source": [
    "# df.head()['deposits_list'].values"
   ]
  },
  {
   "cell_type": "code",
   "execution_count": null,
   "metadata": {},
   "outputs": [],
   "source": [
    "df[\"owner\"] = df[\"owner\"].astype(str).str.lower()\n",
    "df[df.owner == \"5pYVYmm4d5zwrKmVMw1FUfBuEKZDvjUR87KnMAEmPUjR\".lower()]"
   ]
  },
  {
   "cell_type": "code",
   "execution_count": null,
   "metadata": {},
   "outputs": [],
   "source": [
    "#### THIS IS UPLOADED TO obligation_summary_snapshots"
   ]
  },
  {
   "cell_type": "code",
   "execution_count": null,
   "metadata": {},
   "outputs": [],
   "source": [
    "x = await mp.get_wide_position_data()"
   ]
  },
  {
   "cell_type": "code",
   "execution_count": null,
   "metadata": {},
   "outputs": [],
   "source": [
    "x"
   ]
  },
  {
   "cell_type": "code",
   "execution_count": null,
   "metadata": {},
   "outputs": [],
   "source": [
    "elevation_group_df = pd.DataFrame(mp.elevation_group_dict).T\n",
    "elevation_group_df\n",
    "# elevation_group_df.insert(\n",
    "#     0, \"ID\", pd.DataFrame(self.elevation_group_dict).T.index\n",
    "# )\n",
    "# elevation_group_df[\"market\"] = self.market\n",
    "# elevation_group_df[\"timestamp\"] = self.timestamp\n",
    "\n",
    "# logging.info(f\"loading elevation group for {self.market} market\")\n",
    "\n",
    "# elevation_group_df = elevation_group_df[\n",
    "#     [\n",
    "#         \"timestamp\",\n",
    "#         \"ID\",\n",
    "#         \"market\",\n",
    "#         \"max_liquidation_bonus_bps\",\n",
    "#         \"ltv_pct\",\n",
    "#         \"liquidation_threshold_pct\",\n",
    "#         \"allow_new_loans\",\n",
    "#     ]\n",
    "# ].copy()"
   ]
  },
  {
   "cell_type": "code",
   "execution_count": null,
   "metadata": {},
   "outputs": [],
   "source": []
  }
 ],
 "metadata": {
  "kernelspec": {
   "display_name": "env_allez_py312",
   "language": "python",
   "name": "python3"
  },
  "language_info": {
   "codemirror_mode": {
    "name": "ipython",
    "version": 3
   },
   "file_extension": ".py",
   "mimetype": "text/x-python",
   "name": "python",
   "nbconvert_exporter": "python",
   "pygments_lexer": "ipython3",
   "version": "3.12.3"
  }
 },
 "nbformat": 4,
 "nbformat_minor": 2
}
