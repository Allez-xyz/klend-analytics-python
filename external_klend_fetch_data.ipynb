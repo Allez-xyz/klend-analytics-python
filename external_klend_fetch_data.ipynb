{
 "cells": [
  {
   "cell_type": "markdown",
   "id": "f1596494-605c-4bf4-84f2-4e4cad31d408",
   "metadata": {},
   "source": [
    "### NOTE: you need to set your SOLANARPC_HTTP_URI env var"
   ]
  },
  {
   "cell_type": "code",
   "execution_count": 1,
   "id": "5f6b12fb-6796-4774-8d95-9f313f87da9a",
   "metadata": {
    "tags": []
   },
   "outputs": [],
   "source": [
    "%load_ext autoreload\n",
    "%reload_ext autoreload\n",
    "%autoreload 2"
   ]
  },
  {
   "cell_type": "code",
   "execution_count": 2,
   "id": "42462324-2c1c-4f2b-82d6-83224a55ed66",
   "metadata": {
    "tags": []
   },
   "outputs": [],
   "source": [
    "from external_klend_utils import *\n",
    "import time\n",
    "import os"
   ]
  },
  {
   "cell_type": "markdown",
   "id": "0185045c-cb10-453b-8cfa-976165796dd0",
   "metadata": {},
   "source": [
    "# Fetch Current Loan Data from On-Chain"
   ]
  },
  {
   "cell_type": "code",
   "execution_count": 12,
   "id": "c3998c0f-06a1-4fbe-9713-5b882d7a7f13",
   "metadata": {
    "tags": []
   },
   "outputs": [],
   "source": [
    "async def get_all_market_data(market):\n",
    "    start_time = time.time()\n",
    "    \n",
    "    uri = os.getenv(\"SOLANARPC_HTTP_URI\")\n",
    "\n",
    "    # make kamino_lend_program\n",
    "    kamino_lend_program = get_kamino_lend_program(uri)\n",
    "\n",
    "    reserves_configs = await get_reserves_configs(kamino_lend_program, market)\n",
    "    elevation_group_dict = await get_elevation_group_dict(market)\n",
    "    loan_metrics_df = await get_loans_metrics(reserves_configs, elevation_group_dict, lending_market=market)\n",
    "\n",
    "    time_taken = time.time() - start_time\n",
    "    logging.info(f\"time_taken = {time_taken:.2f}s\")\n",
    "    \n",
    "    print(f\"Number of reserves = {len(reserves_configs)}\")\n",
    "    print(f\"Number of elevation groups = {len(elevation_group_dict)}\")\n",
    "    print(f\"Number of loans = {loan_metrics_df.shape[0]:,}\")\n",
    "    return reserves_configs, elevation_group_dict,loan_metrics_df"
   ]
  },
  {
   "cell_type": "raw",
   "id": "5ae4db6e-10ab-4930-b844-6ac4bf2298eb",
   "metadata": {},
   "source": [
    "# see external_klend_utils.py\n",
    "# LENDING_MARKETS = {\n",
    "#     \"main_market\": \"7u3HeHxYDLhnCoErrtycNokbQYbWGzLs6JSDqGAv5PfF\",\n",
    "#     \"jlp_market\": \"DxXdAyU3kCjnyggvHmY5nAwg5cRbbmdyX3npfDMjjMek\",\n",
    "#     \"altcoin_market\": \"ByYiZxp8QrdN9qbdtaAiePN8AAr3qvTPppNJDpf5DVJ5\",\n",
    "# }"
   ]
  },
  {
   "cell_type": "code",
   "execution_count": 13,
   "id": "33f657db-9154-4e54-8dfa-1350658f5ede",
   "metadata": {
    "tags": []
   },
   "outputs": [
    {
     "name": "stdout",
     "output_type": "stream",
     "text": [
      "Number of reserves = 14\n",
      "Number of elevation groups = 0\n",
      "Number of loans = 22,093\n"
     ]
    }
   ],
   "source": [
    "lending_market = LENDING_MARKETS['altcoin_market']\n",
    "reserves_configs, elevation_group_dict,loan_metrics_df = await get_all_market_data(lending_market)"
   ]
  },
  {
   "cell_type": "code",
   "execution_count": 5,
   "id": "e206934a-0f05-4062-a255-d25913b9d5bd",
   "metadata": {
    "tags": []
   },
   "outputs": [],
   "source": [
    "mint_to_str_map, str_to_mint_map = await get_scope_mints_to_str_map()"
   ]
  },
  {
   "cell_type": "code",
   "execution_count": 6,
   "id": "ae8ce125-2efa-441a-ab8f-3692c5a126e5",
   "metadata": {},
   "outputs": [
    {
     "data": {
      "text/plain": [
       "['DRIFT',\n",
       " 'KMNO',\n",
       " 'PRCL',\n",
       " 'USDH',\n",
       " 'INF',\n",
       " 'TNSR',\n",
       " 'USDC',\n",
       " 'BONK',\n",
       " 'W',\n",
       " 'JTO',\n",
       " 'WEN',\n",
       " 'PYTH',\n",
       " 'WIF',\n",
       " 'JUP']"
      ]
     },
     "execution_count": 6,
     "metadata": {},
     "output_type": "execute_result"
    }
   ],
   "source": [
    "# token reserve tickers in this market\n",
    "[mint_to_str_map[k] for k in reserves_configs.keys()]"
   ]
  },
  {
   "cell_type": "code",
   "execution_count": 7,
   "id": "d99a3caf-3515-46da-8e17-20300746775f",
   "metadata": {
    "tags": []
   },
   "outputs": [
    {
     "data": {
      "text/plain": [
       "['USDH',\n",
       " 'INF',\n",
       " 'TNSR',\n",
       " 'USDC',\n",
       " 'BONK',\n",
       " 'W',\n",
       " 'JTO',\n",
       " 'WEN',\n",
       " 'PYTH',\n",
       " 'WIF',\n",
       " 'JUP']"
      ]
     },
     "execution_count": 7,
     "metadata": {},
     "output_type": "execute_result"
    }
   ],
   "source": [
    "# token reserve tickers in this market which are shown in UI (status == 0)\n",
    "reserves_configs_keys_ui = {\n",
    "    k: r\n",
    "    for k, r in reserves_configs.items()\n",
    "    if r[\"account\"][\"config\"][\"status\"] == 0\n",
    "}\n",
    "\n",
    "[mint_to_str_map[k] for k in reserves_configs_keys_ui.keys()]"
   ]
  },
  {
   "cell_type": "code",
   "execution_count": 8,
   "id": "a12ea88d-a16d-46b0-b39e-3f7e49398c91",
   "metadata": {
    "tags": []
   },
   "outputs": [
    {
     "data": {
      "text/html": [
       "<div>\n",
       "<style scoped>\n",
       "    .dataframe tbody tr th:only-of-type {\n",
       "        vertical-align: middle;\n",
       "    }\n",
       "\n",
       "    .dataframe tbody tr th {\n",
       "        vertical-align: top;\n",
       "    }\n",
       "\n",
       "    .dataframe thead th {\n",
       "        text-align: right;\n",
       "    }\n",
       "</style>\n",
       "<table border=\"1\" class=\"dataframe\">\n",
       "  <thead>\n",
       "    <tr style=\"text-align: right;\">\n",
       "      <th></th>\n",
       "      <th>owner</th>\n",
       "      <th>elevation_group</th>\n",
       "      <th>current_ltv</th>\n",
       "      <th>max_ltv</th>\n",
       "      <th>unhealthy_ltv</th>\n",
       "      <th>dist_to_liq</th>\n",
       "      <th>total_deposit_usd</th>\n",
       "      <th>total_borrow_usd</th>\n",
       "      <th>net_value</th>\n",
       "    </tr>\n",
       "    <tr>\n",
       "      <th>public_key</th>\n",
       "      <th></th>\n",
       "      <th></th>\n",
       "      <th></th>\n",
       "      <th></th>\n",
       "      <th></th>\n",
       "      <th></th>\n",
       "      <th></th>\n",
       "      <th></th>\n",
       "      <th></th>\n",
       "    </tr>\n",
       "  </thead>\n",
       "  <tbody>\n",
       "    <tr>\n",
       "      <th>4aALVBGvh2czH4rLteMY3CFaHf461bMcv1pmiFBHvqVE</th>\n",
       "      <td>CbQGxnGEdfBK6BsPBB3so3PVRuRFx2oDaDupGfuYhBvA</td>\n",
       "      <td>0</td>\n",
       "      <td>0.148684</td>\n",
       "      <td>0.10</td>\n",
       "      <td>0.20</td>\n",
       "      <td>0.051316</td>\n",
       "      <td>1.992942e+01</td>\n",
       "      <td>0.592638</td>\n",
       "      <td>1.933678e+01</td>\n",
       "    </tr>\n",
       "    <tr>\n",
       "      <th>EjcKFuHJtq3CraQjvo3CXNcwf2PtNZKxaeUiRQMVYhNg</th>\n",
       "      <td>Hrix7ZDGtBFsVLUAGQiXSYT3aTb3CBLLfAjtgfHtCqiF</td>\n",
       "      <td>0</td>\n",
       "      <td>0.678291</td>\n",
       "      <td>0.65</td>\n",
       "      <td>0.75</td>\n",
       "      <td>0.071709</td>\n",
       "      <td>2.018593e-01</td>\n",
       "      <td>0.136919</td>\n",
       "      <td>6.494001e-02</td>\n",
       "    </tr>\n",
       "    <tr>\n",
       "      <th>8rRg3ftQjfN3vFzERQwvZ3Rnv4sgY7jva4ZhMYPMHr2j</th>\n",
       "      <td>337tAvLe7hgoeu2FC3yLHpnqyr2RajhnDVtjEMes9YfJ</td>\n",
       "      <td>0</td>\n",
       "      <td>0.127842</td>\n",
       "      <td>0.10</td>\n",
       "      <td>0.20</td>\n",
       "      <td>0.072158</td>\n",
       "      <td>8.378420e+04</td>\n",
       "      <td>10711.114674</td>\n",
       "      <td>7.307308e+04</td>\n",
       "    </tr>\n",
       "    <tr>\n",
       "      <th>2xJdmVFRecZ9FhDzHs3GKHDY5qT6tNeswfDcgCb34Ghq</th>\n",
       "      <td>H7mtTUY1KNcAM9ZPUL9hYsB3z4z2g67QdtX3wdsASc4v</td>\n",
       "      <td>0</td>\n",
       "      <td>0.127270</td>\n",
       "      <td>0.10</td>\n",
       "      <td>0.20</td>\n",
       "      <td>0.072730</td>\n",
       "      <td>1.339238e+06</td>\n",
       "      <td>170445.482716</td>\n",
       "      <td>1.168793e+06</td>\n",
       "    </tr>\n",
       "    <tr>\n",
       "      <th>Dric7ceWrTktdxoosvwXJBRTUnAxVgt489RvKB76txkU</th>\n",
       "      <td>A1HcDsVATuWg9JHuJXsc6oi66hBnLHyFS8YmDrAAdnv4</td>\n",
       "      <td>0</td>\n",
       "      <td>0.126935</td>\n",
       "      <td>0.10</td>\n",
       "      <td>0.20</td>\n",
       "      <td>0.073065</td>\n",
       "      <td>7.050872e+04</td>\n",
       "      <td>8941.547379</td>\n",
       "      <td>6.150033e+04</td>\n",
       "    </tr>\n",
       "  </tbody>\n",
       "</table>\n",
       "</div>"
      ],
      "text/plain": [
       "                                                                                     owner  \\\n",
       "public_key                                                                                   \n",
       "4aALVBGvh2czH4rLteMY3CFaHf461bMcv1pmiFBHvqVE  CbQGxnGEdfBK6BsPBB3so3PVRuRFx2oDaDupGfuYhBvA   \n",
       "EjcKFuHJtq3CraQjvo3CXNcwf2PtNZKxaeUiRQMVYhNg  Hrix7ZDGtBFsVLUAGQiXSYT3aTb3CBLLfAjtgfHtCqiF   \n",
       "8rRg3ftQjfN3vFzERQwvZ3Rnv4sgY7jva4ZhMYPMHr2j  337tAvLe7hgoeu2FC3yLHpnqyr2RajhnDVtjEMes9YfJ   \n",
       "2xJdmVFRecZ9FhDzHs3GKHDY5qT6tNeswfDcgCb34Ghq  H7mtTUY1KNcAM9ZPUL9hYsB3z4z2g67QdtX3wdsASc4v   \n",
       "Dric7ceWrTktdxoosvwXJBRTUnAxVgt489RvKB76txkU  A1HcDsVATuWg9JHuJXsc6oi66hBnLHyFS8YmDrAAdnv4   \n",
       "\n",
       "                                              elevation_group  current_ltv  \\\n",
       "public_key                                                                   \n",
       "4aALVBGvh2czH4rLteMY3CFaHf461bMcv1pmiFBHvqVE                0     0.148684   \n",
       "EjcKFuHJtq3CraQjvo3CXNcwf2PtNZKxaeUiRQMVYhNg                0     0.678291   \n",
       "8rRg3ftQjfN3vFzERQwvZ3Rnv4sgY7jva4ZhMYPMHr2j                0     0.127842   \n",
       "2xJdmVFRecZ9FhDzHs3GKHDY5qT6tNeswfDcgCb34Ghq                0     0.127270   \n",
       "Dric7ceWrTktdxoosvwXJBRTUnAxVgt489RvKB76txkU                0     0.126935   \n",
       "\n",
       "                                              max_ltv  unhealthy_ltv  \\\n",
       "public_key                                                             \n",
       "4aALVBGvh2czH4rLteMY3CFaHf461bMcv1pmiFBHvqVE     0.10           0.20   \n",
       "EjcKFuHJtq3CraQjvo3CXNcwf2PtNZKxaeUiRQMVYhNg     0.65           0.75   \n",
       "8rRg3ftQjfN3vFzERQwvZ3Rnv4sgY7jva4ZhMYPMHr2j     0.10           0.20   \n",
       "2xJdmVFRecZ9FhDzHs3GKHDY5qT6tNeswfDcgCb34Ghq     0.10           0.20   \n",
       "Dric7ceWrTktdxoosvwXJBRTUnAxVgt489RvKB76txkU     0.10           0.20   \n",
       "\n",
       "                                              dist_to_liq  total_deposit_usd  \\\n",
       "public_key                                                                     \n",
       "4aALVBGvh2czH4rLteMY3CFaHf461bMcv1pmiFBHvqVE     0.051316       1.992942e+01   \n",
       "EjcKFuHJtq3CraQjvo3CXNcwf2PtNZKxaeUiRQMVYhNg     0.071709       2.018593e-01   \n",
       "8rRg3ftQjfN3vFzERQwvZ3Rnv4sgY7jva4ZhMYPMHr2j     0.072158       8.378420e+04   \n",
       "2xJdmVFRecZ9FhDzHs3GKHDY5qT6tNeswfDcgCb34Ghq     0.072730       1.339238e+06   \n",
       "Dric7ceWrTktdxoosvwXJBRTUnAxVgt489RvKB76txkU     0.073065       7.050872e+04   \n",
       "\n",
       "                                              total_borrow_usd     net_value  \n",
       "public_key                                                                    \n",
       "4aALVBGvh2czH4rLteMY3CFaHf461bMcv1pmiFBHvqVE          0.592638  1.933678e+01  \n",
       "EjcKFuHJtq3CraQjvo3CXNcwf2PtNZKxaeUiRQMVYhNg          0.136919  6.494001e-02  \n",
       "8rRg3ftQjfN3vFzERQwvZ3Rnv4sgY7jva4ZhMYPMHr2j      10711.114674  7.307308e+04  \n",
       "2xJdmVFRecZ9FhDzHs3GKHDY5qT6tNeswfDcgCb34Ghq     170445.482716  1.168793e+06  \n",
       "Dric7ceWrTktdxoosvwXJBRTUnAxVgt489RvKB76txkU       8941.547379  6.150033e+04  "
      ]
     },
     "execution_count": 8,
     "metadata": {},
     "output_type": "execute_result"
    }
   ],
   "source": [
    "# view key cols\n",
    "loan_metrics_df_copy = loan_metrics_df.copy()\n",
    "cols = [\n",
    "    \"owner\",\n",
    "    \"elevation_group\",\n",
    "    \"current_ltv\",\n",
    "    \"max_ltv\",\n",
    "    \"unhealthy_ltv\",\n",
    "    \"dist_to_liq\",\n",
    "    \"total_deposit_usd\",\n",
    "    \"total_borrow_usd\",\n",
    "    \"net_value\",\n",
    "]\n",
    "loan_metrics_df_copy = loan_metrics_df_copy[cols]\n",
    "loan_metrics_df_copy = loan_metrics_df_copy[loan_metrics_df_copy.total_borrow_usd > 0.0]\n",
    "loan_metrics_df_copy.sort_values(by='dist_to_liq', ascending=True, inplace=True)\n",
    "loan_metrics_df_copy.head(5)"
   ]
  },
  {
   "cell_type": "code",
   "execution_count": 9,
   "id": "35341b62-814e-4301-bd6e-9aa36d531aab",
   "metadata": {
    "tags": []
   },
   "outputs": [
    {
     "data": {
      "text/plain": [
       "dict_keys(['DriFtupJYLTosbwoN8koMbEYSx54aFAVLddWsbksjwg7', 'KMNo3nJsBXfcpJTVhZcXLW7RmTwTt4GVFE7suUBo9sS', '4LLbsb5ReP3yEtYzmXewyGjcir5uXtKFURtaEUVC2AHs', 'USDH1SM1ojwWUga67PGrgFWUHibbjqMvuMaDkRJTgkX', '5oVNBeEEQvYi1cX3ir8Dx5n1P7pdxydbGF2X4TxVusJm', 'TNSRxcUxoT9xBG3de7PiJyTDYu7kskLqcpddxnEJAS6', 'EPjFWdd5AufqSSqeM2qN1xzybapC8G4wEGGkZwyTDt1v', 'DezXAZ8z7PnrnRJjz3wXBoRgixCa6xjnB7YaB1pPB263', '85VBFQZC9TZkfaptBWjvUw7YbZjy52A6mjtPGjstQAmQ', 'jtojtomepa8beP8AuQc6eXt5FriJwfFMwQx2v2f9mCL', 'WENWENvqqNya429ubCdR81ZmD69brwQaaBYY6p3LCpk', 'HZ1JovNiVvGrGNiiYvEozEVgZ58xaU3RKwX8eACQBCt3', 'EKpQGSJtjMFqKZ9KQanSqYXRcF8fBopzLHYxdM65zcjm', 'JUPyiwrYJFskUPiHa7hkeR8VUtAeFoSYbKedZNsDvCN'])"
      ]
     },
     "execution_count": 9,
     "metadata": {},
     "output_type": "execute_result"
    }
   ],
   "source": [
    "# get IR curves\n",
    "interest_rates = {}\n",
    "for token in reserves_configs.keys():\n",
    "    (\n",
    "        df_interpolated,\n",
    "        borrow_curve_df,\n",
    "        current_util,\n",
    "        current_borrow_rate,\n",
    "        current_borrow_rate_apy,\n",
    "        current_supply_rate,\n",
    "        current_supply_rate_apy,\n",
    "    ) = get_ir_curve(reserves_configs, token)\n",
    "    interest_rates[token] = {\n",
    "        \"df_interpolated\": df_interpolated,\n",
    "        \"borrow_curve_df\": borrow_curve_df,\n",
    "        \"current_util\": current_util,\n",
    "        \"current_borrow_rate\": current_borrow_rate,\n",
    "        \"current_borrow_rate_apy\": current_borrow_rate_apy,\n",
    "        \"current_supply_rate\": current_supply_rate,\n",
    "        \"current_supply_rate_apy\": current_supply_rate_apy,\n",
    "    }\n",
    "interest_rates.keys()"
   ]
  },
  {
   "cell_type": "code",
   "execution_count": 10,
   "id": "dd6724ec-8217-47b9-8059-cc857179e56e",
   "metadata": {
    "tags": []
   },
   "outputs": [
    {
     "data": {
      "text/html": [
       "<div>\n",
       "<style scoped>\n",
       "    .dataframe tbody tr th:only-of-type {\n",
       "        vertical-align: middle;\n",
       "    }\n",
       "\n",
       "    .dataframe tbody tr th {\n",
       "        vertical-align: top;\n",
       "    }\n",
       "\n",
       "    .dataframe thead th {\n",
       "        text-align: right;\n",
       "    }\n",
       "</style>\n",
       "<table border=\"1\" class=\"dataframe\">\n",
       "  <thead>\n",
       "    <tr style=\"text-align: right;\">\n",
       "      <th></th>\n",
       "      <th>utilization_rate</th>\n",
       "      <th>borrow_rate</th>\n",
       "      <th>supply_rate</th>\n",
       "    </tr>\n",
       "  </thead>\n",
       "  <tbody>\n",
       "    <tr>\n",
       "      <th>0</th>\n",
       "      <td>0.0</td>\n",
       "      <td>0.0</td>\n",
       "      <td>0.0</td>\n",
       "    </tr>\n",
       "    <tr>\n",
       "      <th>1</th>\n",
       "      <td>85.0</td>\n",
       "      <td>50.0</td>\n",
       "      <td>34.0</td>\n",
       "    </tr>\n",
       "    <tr>\n",
       "      <th>2</th>\n",
       "      <td>90.0</td>\n",
       "      <td>75.0</td>\n",
       "      <td>54.0</td>\n",
       "    </tr>\n",
       "    <tr>\n",
       "      <th>3</th>\n",
       "      <td>92.0</td>\n",
       "      <td>100.0</td>\n",
       "      <td>73.6</td>\n",
       "    </tr>\n",
       "    <tr>\n",
       "      <th>4</th>\n",
       "      <td>95.0</td>\n",
       "      <td>150.0</td>\n",
       "      <td>114.0</td>\n",
       "    </tr>\n",
       "    <tr>\n",
       "      <th>5</th>\n",
       "      <td>100.0</td>\n",
       "      <td>250.0</td>\n",
       "      <td>200.0</td>\n",
       "    </tr>\n",
       "  </tbody>\n",
       "</table>\n",
       "</div>"
      ],
      "text/plain": [
       "   utilization_rate  borrow_rate  supply_rate\n",
       "0               0.0          0.0          0.0\n",
       "1              85.0         50.0         34.0\n",
       "2              90.0         75.0         54.0\n",
       "3              92.0        100.0         73.6\n",
       "4              95.0        150.0        114.0\n",
       "5             100.0        250.0        200.0"
      ]
     },
     "execution_count": 10,
     "metadata": {},
     "output_type": "execute_result"
    }
   ],
   "source": [
    "interest_rates['EPjFWdd5AufqSSqeM2qN1xzybapC8G4wEGGkZwyTDt1v']['borrow_curve_df']"
   ]
  },
  {
   "cell_type": "code",
   "execution_count": null,
   "id": "fdf77e0b-486e-4a5f-8477-a2a93cd4262e",
   "metadata": {},
   "outputs": [],
   "source": []
  }
 ],
 "metadata": {
  "kernelspec": {
   "display_name": "Python 3 (ipykernel)",
   "language": "python",
   "name": "python3"
  },
  "language_info": {
   "codemirror_mode": {
    "name": "ipython",
    "version": 3
   },
   "file_extension": ".py",
   "mimetype": "text/x-python",
   "name": "python",
   "nbconvert_exporter": "python",
   "pygments_lexer": "ipython3",
   "version": "3.10.10"
  }
 },
 "nbformat": 4,
 "nbformat_minor": 5
}
